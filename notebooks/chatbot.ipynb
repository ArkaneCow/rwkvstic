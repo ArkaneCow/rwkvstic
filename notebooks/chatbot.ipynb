{
 "cells": [
  {
   "cell_type": "code",
   "execution_count": null,
   "metadata": {},
   "outputs": [],
   "source": [
    "#@title Install Dependencies { display-mode: \"form\" }\n",
    "\n",
    "!pip install inquirer transformers sty rwkvstic>=0.0.3\n",
    "import os"
   ]
  },
  {
   "cell_type": "code",
   "execution_count": null,
   "metadata": {},
   "outputs": [],
   "source": [
    "#@title Download and Initialize model { display-mode: \"form\" }\n",
    "from rwkvstic.load import RWKV\n",
    "\n",
    "model = RWKV(\n",
    "    \"https://huggingface.co/Hazzzardous/RWKV-8Bit/resolve/main/RWKV-4-Pile-7B-Instruct.pqth\"\n",
    ")"
   ]
  },
  {
   "cell_type": "code",
   "execution_count": null,
   "metadata": {},
   "outputs": [],
   "source": [
    "#@title Ask Question { display-mode: \"form\" }\n",
    "model.resetState()\n",
    "Prompt = \"Who is Elon Musk\" #@param {type:\"string\"}\n",
    "model.loadContext(\"\\n\",\n",
    "                                     f\"Prompt: {Prompt}?\\n\\nLong Detailed Expert Response: \")\n",
    "out = model.forward(number=100)[\"output\"]\n",
    "import IPython\n",
    "IPython.display.HTML(f\"<p>{out}</p>\")"
   ]
  }
 ],
 "metadata": {
  "language_info": {
   "name": "python"
  },
  "orig_nbformat": 4
 },
 "nbformat": 4,
 "nbformat_minor": 2
}
